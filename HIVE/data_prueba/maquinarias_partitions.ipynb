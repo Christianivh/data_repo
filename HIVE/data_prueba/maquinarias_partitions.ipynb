{
 "cells": [
  {
   "cell_type": "code",
   "execution_count": 19,
   "metadata": {},
   "outputs": [],
   "source": [
    "import os\n",
    "import shutil"
   ]
  },
  {
   "cell_type": "code",
   "execution_count": 22,
   "metadata": {},
   "outputs": [],
   "source": [
    "local = '/home/osboxes/data_repo/HIVE/data_prueba/maquinarias/'\n",
    "if not os.path.isdir(local):\n",
    "    os.mkdir(local)"
   ]
  },
  {
   "cell_type": "code",
   "execution_count": 23,
   "metadata": {},
   "outputs": [],
   "source": [
    "ruta = '/home/osboxes/data_repo/HIVE/data_prueba/ME_20_03/'\n",
    "local = '/home/osboxes/data_repo/HIVE/data_prueba/maquinarias/'\n",
    "for files in os.listdir(ruta):\n",
    "    folder = 'fecha='+str(2000+int(files[2:4])) + files[4:6] + files[6:8] + '/'\n",
    "    \n",
    "    if not os.path.isdir(local + folder):\n",
    "        os.mkdir(local +  folder)\n",
    "    \n",
    "    shutil.copy2(ruta+files, local +folder+files)"
   ]
  },
  {
   "cell_type": "code",
   "execution_count": null,
   "metadata": {},
   "outputs": [],
   "source": []
  }
 ],
 "metadata": {
  "kernelspec": {
   "display_name": "Python 3",
   "language": "python",
   "name": "python3"
  },
  "language_info": {
   "codemirror_mode": {
    "name": "ipython",
    "version": 3
   },
   "file_extension": ".py",
   "mimetype": "text/x-python",
   "name": "python",
   "nbconvert_exporter": "python",
   "pygments_lexer": "ipython3",
   "version": "3.7.5"
  }
 },
 "nbformat": 4,
 "nbformat_minor": 2
}

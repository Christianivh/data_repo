{
 "cells": [
  {
   "cell_type": "code",
   "execution_count": 1,
   "metadata": {},
   "outputs": [],
   "source": [
    "import wget\n",
    "import findspark\n",
    "findspark.init()"
   ]
  },
  {
   "cell_type": "code",
   "execution_count": 2,
   "metadata": {},
   "outputs": [],
   "source": [
    "import pyspark\n",
    "from pyspark.sql import SQLContext\n",
    "from pyspark.sql import Row\n",
    "\n",
    "sc = SparkContext.getOrCreate()\n",
    "sqlContext = SQLContext(sc)"
   ]
  },
  {
   "cell_type": "markdown",
   "metadata": {},
   "source": [
    "\n",
    "wget.download(\"https://datasets.imdbws.com/name.basics.tsv.gz\")\n"
   ]
  },
  {
   "cell_type": "markdown",
   "metadata": {},
   "source": [
    "## title.principals"
   ]
  },
  {
   "cell_type": "markdown",
   "metadata": {},
   "source": [
    "#### title.principals.tsv.gz – Contains the principal cast/crew for titles\n",
    "- tconst (string) - alphanumeric unique identifier of the title\n",
    "- ordering (integer) – a number to uniquely identify rows for a given titleId\n",
    "- nconst (string) - alphanumeric unique identifier of the name/person\n",
    "- category (string) - the category of job that person was in\n",
    "- job (string) - the specific job title if applicable, else '\\N'\n",
    "- characters (string) - the name of the character played if applicable, else '\\N'"
   ]
  },
  {
   "cell_type": "code",
   "execution_count": 12,
   "metadata": {},
   "outputs": [],
   "source": [
    "data_file = \"./title.principals.tsv.gz\"\n",
    "raw_data = sc.textFile(data_file) \n",
    "header = raw_data.first() #remove header\n",
    "raw_data = raw_data.filter(lambda x: header != x)"
   ]
  },
  {
   "cell_type": "code",
   "execution_count": 7,
   "metadata": {},
   "outputs": [
    {
     "name": "stdout",
     "output_type": "stream",
     "text": [
      "+----------------------------------------------+\n",
      "|tconst\tordering\tnconst\tcategory\tjob\tcharacters|\n",
      "+----------------------------------------------+\n",
      "|                          tt0000001\t1\tnm158...|\n",
      "|                          tt0000001\t2\tnm000...|\n",
      "|                          tt0000001\t3\tnm037...|\n",
      "|                          tt0000002\t1\tnm072...|\n",
      "|                          tt0000002\t2\tnm133...|\n",
      "|                          tt0000003\t1\tnm072...|\n",
      "|                          tt0000003\t2\tnm544...|\n",
      "|                          tt0000003\t3\tnm133...|\n",
      "|                          tt0000003\t4\tnm544...|\n",
      "|                          tt0000004\t1\tnm072...|\n",
      "|                          tt0000004\t2\tnm133...|\n",
      "|                          tt0000005\t1\tnm044...|\n",
      "|                          tt0000005\t2\tnm065...|\n",
      "|                          tt0000005\t3\tnm000...|\n",
      "|                          tt0000005\t4\tnm024...|\n",
      "|                          tt0000006\t1\tnm000...|\n",
      "|                          tt0000007\t1\tnm017...|\n",
      "|                          tt0000007\t2\tnm018...|\n",
      "|                          tt0000007\t3\tnm000...|\n",
      "|                          tt0000007\t4\tnm037...|\n",
      "+----------------------------------------------+\n",
      "only showing top 20 rows\n",
      "\n"
     ]
    }
   ],
   "source": [
    "# dataframe\n",
    "df = spark.read.option(\"header\",\"true\").option(\"inferSchema\",\"true\").csv(\"./title.principals.tsv.gz\")\n",
    "df.show()"
   ]
  },
  {
   "cell_type": "code",
   "execution_count": 16,
   "metadata": {},
   "outputs": [],
   "source": [
    "tsv_data = raw_data.map(lambda l: l.split(\"\\t\"))\n",
    "row_data = tsv_data.map(lambda p: Row(\n",
    "    tconst=p[0],\n",
    "    ordering=int(p[1]),\n",
    "    nconst=p[2],\n",
    "    category=p[3],\n",
    "    job=p[4],\n",
    "    characters=p[5]\n",
    "    )\n",
    ")"
   ]
  },
  {
   "cell_type": "code",
   "execution_count": 17,
   "metadata": {},
   "outputs": [],
   "source": [
    "principals_df = sqlContext.createDataFrame(row_data)\n",
    "principals_df.registerTempTable(\"principals\")"
   ]
  },
  {
   "cell_type": "code",
   "execution_count": 20,
   "metadata": {},
   "outputs": [
    {
     "name": "stdout",
     "output_type": "stream",
     "text": [
      "+-------------------+-------------+\n",
      "|           category|sum(ordering)|\n",
      "+-------------------+-------------+\n",
      "|            actress|     23656276|\n",
      "|           producer|     15159835|\n",
      "|             writer|     34055856|\n",
      "|           composer|      9380561|\n",
      "|           director|     19989895|\n",
      "|               self|     22967709|\n",
      "|              actor|     32012753|\n",
      "|             editor|      9122407|\n",
      "|    cinematographer|      9634074|\n",
      "|      archive_sound|        10128|\n",
      "|production_designer|      2378722|\n",
      "|    archive_footage|      1130628|\n",
      "+-------------------+-------------+\n",
      "\n"
     ]
    }
   ],
   "source": [
    "# Select tcp network interactions with more than 1 second duration and no transfer from destination\n",
    "tcp_principals = sqlContext.sql(\"\"\"\n",
    "    SELECT * FROM principals limit 10\n",
    "\"\"\")\n",
    "tcp_principals.show()"
   ]
  },
  {
   "cell_type": "markdown",
   "metadata": {},
   "source": [
    "## title.akas"
   ]
  },
  {
   "cell_type": "markdown",
   "metadata": {},
   "source": [
    "#### title.akas.tsv.gz - Contains the following information for titles:\n",
    "\n",
    "- titleId (string) - a tconst, an alphanumeric unique identifier of the title\n",
    "- ordering (integer) – a number to uniquely identify rows for a given titleId\n",
    "- title (string) – the localized title\n",
    "- region (string) - the region for this version of the title\n",
    "- language (string) - the language of the title\n",
    "- types (array) - Enumerated set of attributes for this alternative title. One or more of the following: \"alternative\", \"dvd\", \"festival\", \"tv\", \"video\", \"working\", \"original\", \"imdbDisplay\". New values may be added in the future without warning\n",
    "- attributes (array) - Additional terms to describe this alternative title, not enumerated\n",
    "- isOriginalTitle (boolean) – 0: not original title; 1: original title"
   ]
  },
  {
   "cell_type": "code",
   "execution_count": 21,
   "metadata": {},
   "outputs": [],
   "source": [
    "data_file = \"./title.akas.tsv.gz\"\n",
    "raw_data = sc.textFile(data_file)\n",
    "header = raw_data.first() #remove header\n",
    "raw_data = raw_data.filter(lambda x: header != x)"
   ]
  },
  {
   "cell_type": "code",
   "execution_count": 22,
   "metadata": {},
   "outputs": [],
   "source": [
    "tsv_data = raw_data.map(lambda l: l.split(\"\\t\"))\n",
    "\n",
    "row_data = tsv_data.map(lambda p: Row(\n",
    "    titleId=p[0],\n",
    "    ordering=int(p[1]),\n",
    "    title=p[2],\n",
    "    region=p[3],\n",
    "    language=p[4],\n",
    "    types=list(p[5]),\n",
    "    attributes=list(p[6]),\n",
    "    isOriginalTitle=bool(p[7])\n",
    "    )\n",
    ")"
   ]
  },
  {
   "cell_type": "code",
   "execution_count": 23,
   "metadata": {},
   "outputs": [
    {
     "name": "stdout",
     "output_type": "stream",
     "text": [
      "+--------------------+---------------+--------+--------+------+--------------------+---------+--------------------+\n",
      "|          attributes|isOriginalTitle|language|ordering|region|               title|  titleId|               types|\n",
      "+--------------------+---------------+--------+--------+------+--------------------+---------+--------------------+\n",
      "|              [\\, N]|           true|      \\N|       1|    UA|          Карменсіта|tt0000001|[i, m, d, b, D, i...|\n",
      "|[l, i, t, e, r, a...|           true|      \\N|       2|    DE|          Carmencita|tt0000001|              [\\, N]|\n",
      "|              [\\, N]|           true|      \\N|       3|    HU|Carmencita - span...|tt0000001|[i, m, d, b, D, i...|\n",
      "|              [\\, N]|           true|      \\N|       4|    GR|          Καρμενσίτα|tt0000001|[i, m, d, b, D, i...|\n",
      "|              [\\, N]|           true|      \\N|       5|    RU|          Карменсита|tt0000001|[i, m, d, b, D, i...|\n",
      "|              [\\, N]|           true|      \\N|       6|    US|          Carmencita|tt0000001|              [\\, N]|\n",
      "|              [\\, N]|           true|      \\N|       7|    \\N|          Carmencita|tt0000001|[o, r, i, g, i, n...|\n",
      "|              [\\, N]|           true|      ja|       8|    JP|      カルメンチータ|tt0000001|[i, m, d, b, D, i...|\n",
      "|              [\\, N]|           true|      \\N|       1|    \\N|Le clown et ses c...|tt0000002|[o, r, i, g, i, n...|\n",
      "|              [\\, N]|           true|      \\N|       2|    HU|   A bohóc és kutyái|tt0000002|[i, m, d, b, D, i...|\n",
      "+--------------------+---------------+--------+--------+------+--------------------+---------+--------------------+\n",
      "\n"
     ]
    }
   ],
   "source": [
    "akas_df = sqlContext.createDataFrame(row_data)\n",
    "akas_df.registerTempTable(\"akas\")\n",
    "\n",
    "# Select tcp network interactions with more than 1 second duration and no transfer from destination\n",
    "tcp_akas = sqlContext.sql(\"\"\"\n",
    "    SELECT * FROM akas limit 10\n",
    "\"\"\")\n",
    "tcp_akas.show()"
   ]
  },
  {
   "cell_type": "markdown",
   "metadata": {},
   "source": [
    "## title.basics"
   ]
  },
  {
   "cell_type": "markdown",
   "metadata": {},
   "source": [
    "### title.basics.tsv.gz - Contains the following information for titles:\n",
    "- tconst (string) - alphanumeric unique identifier of the title\n",
    "- titleType (string) – the type/format of the title (e.g. movie, short, tvseries, tvepisode, video, etc)\n",
    "- primaryTitle (string) – the more popular title / the title used by the filmmakers on promotional materials at the point of release\n",
    "- originalTitle (string) - original title, in the original language\n",
    "- isAdult (boolean) - 0: non-adult title; 1: adult title\n",
    "- startYear (YYYY) – represents the release year of a title. In the case of TV Series, it is the series start year\n",
    "- endYear (YYYY) – TV Series end year. ‘\\N’ for all other title types\n",
    "- runtimeMinutes – primary runtime of the title, in minutes\n",
    "- genres (string array) – includes up to three genres associated with the title"
   ]
  },
  {
   "cell_type": "code",
   "execution_count": 52,
   "metadata": {},
   "outputs": [],
   "source": [
    "data_file = \"./title.basics.tsv.gz\"\n",
    "raw_data = sc.textFile(data_file) \n",
    "header = raw_data.first() #remove header\n",
    "raw_data = raw_data.filter(lambda x: header != x)"
   ]
  },
  {
   "cell_type": "code",
   "execution_count": 60,
   "metadata": {},
   "outputs": [],
   "source": [
    "tsv_data = raw_data.map(lambda l: l.split(\"\\t\"))\n",
    "\n",
    "row_data = tsv_data.map(lambda p: Row(\n",
    "    tconst=p[0],\n",
    "    titleType=p[1],\n",
    "    primaryTitle=p[2],\n",
    "    originalTitle=p[3],\n",
    "    isAdult=bool(p[4]),\n",
    "    startYear=(p[5]),\n",
    "    endYear=(p[6]),\n",
    "    runtimeMinutes=(p[7]),\n",
    "    genres=(p[8])\n",
    "    )\n",
    ")"
   ]
  },
  {
   "cell_type": "code",
   "execution_count": 61,
   "metadata": {},
   "outputs": [
    {
     "name": "stdout",
     "output_type": "stream",
     "text": [
      "+-------+--------------------+-------+--------------------+--------------------+--------------+---------+---------+---------+\n",
      "|endYear|              genres|isAdult|       originalTitle|        primaryTitle|runtimeMinutes|startYear|   tconst|titleType|\n",
      "+-------+--------------------+-------+--------------------+--------------------+--------------+---------+---------+---------+\n",
      "|     \\N|   Documentary,Short|   true|          Carmencita|          Carmencita|             1|     1894|tt0000001|    short|\n",
      "|     \\N|     Animation,Short|   true|Le clown et ses c...|Le clown et ses c...|             5|     1892|tt0000002|    short|\n",
      "|     \\N|Animation,Comedy,...|   true|      Pauvre Pierrot|      Pauvre Pierrot|             4|     1892|tt0000003|    short|\n",
      "|     \\N|     Animation,Short|   true|         Un bon bock|         Un bon bock|            12|     1892|tt0000004|    short|\n",
      "|     \\N|        Comedy,Short|   true|    Blacksmith Scene|    Blacksmith Scene|             1|     1893|tt0000005|    short|\n",
      "|     \\N|               Short|   true|   Chinese Opium Den|   Chinese Opium Den|             1|     1894|tt0000006|    short|\n",
      "|     \\N|         Short,Sport|   true|Corbett and Court...|Corbett and Court...|             1|     1894|tt0000007|    short|\n",
      "|     \\N|   Documentary,Short|   true|Edison Kinetoscop...|Edison Kinetoscop...|             1|     1894|tt0000008|    short|\n",
      "|     \\N|             Romance|   true|          Miss Jerry|          Miss Jerry|            45|     1894|tt0000009|    movie|\n",
      "|     \\N|   Documentary,Short|   true|La sortie de l'us...| Exiting the Factory|             1|     1895|tt0000010|    short|\n",
      "+-------+--------------------+-------+--------------------+--------------------+--------------+---------+---------+---------+\n",
      "\n"
     ]
    }
   ],
   "source": [
    "basics_df = sqlContext.createDataFrame(row_data)\n",
    "basics_df.registerTempTable(\"basics\")\n",
    "\n",
    "# Select tcp network interactions with more than 1 second duration and no transfer from destination\n",
    "tcp_basics = sqlContext.sql(\"\"\"\n",
    "    SELECT * FROM basics limit 10\n",
    "\"\"\")\n",
    "tcp_basics.show()"
   ]
  },
  {
   "cell_type": "code",
   "execution_count": 62,
   "metadata": {},
   "outputs": [
    {
     "name": "stdout",
     "output_type": "stream",
     "text": [
      "+--------------+--------+\n",
      "|runtimeMinutes|count(1)|\n",
      "+--------------+--------+\n",
      "|           467|       3|\n",
      "|           296|      18|\n",
      "|           691|       2|\n",
      "|           675|       1|\n",
      "|          2088|       1|\n",
      "|           125|    2335|\n",
      "|           451|       4|\n",
      "|           800|       3|\n",
      "|           853|       1|\n",
      "|          1669|       1|\n",
      "|           870|       1|\n",
      "|             7|   36942|\n",
      "|            51|    6724|\n",
      "|           124|    1467|\n",
      "|           447|       2|\n",
      "|           475|       5|\n",
      "|           307|      11|\n",
      "|          1500|       4|\n",
      "|          1773|       1|\n",
      "|           613|       1|\n",
      "+--------------+--------+\n",
      "only showing top 20 rows\n",
      "\n"
     ]
    }
   ],
   "source": [
    "# Select tcp network interactions with more than 1 second duration and no transfer from destination\n",
    "tcp_basics = sqlContext.sql(\"\"\"\n",
    "    SELECT runtimeMinutes, count(*) FROM basics group by runtimeMinutes \n",
    "\"\"\")\n",
    "tcp_basics.show()"
   ]
  },
  {
   "cell_type": "code",
   "execution_count": 47,
   "metadata": {},
   "outputs": [
    {
     "data": {
      "text/plain": [
       "6782090"
      ]
     },
     "execution_count": 47,
     "metadata": {},
     "output_type": "execute_result"
    }
   ],
   "source": [
    "raw_data.count()"
   ]
  },
  {
   "cell_type": "code",
   "execution_count": null,
   "metadata": {},
   "outputs": [],
   "source": []
  }
 ],
 "metadata": {
  "kernelspec": {
   "display_name": "Python 3",
   "language": "python",
   "name": "python3"
  },
  "language_info": {
   "codemirror_mode": {
    "name": "ipython",
    "version": 3
   },
   "file_extension": ".py",
   "mimetype": "text/x-python",
   "name": "python",
   "nbconvert_exporter": "python",
   "pygments_lexer": "ipython3",
   "version": "3.7.3"
  }
 },
 "nbformat": 4,
 "nbformat_minor": 2
}

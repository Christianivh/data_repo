{
 "cells": [
  {
   "cell_type": "code",
   "execution_count": 1,
   "metadata": {},
   "outputs": [],
   "source": [
    "import wget\n",
    "import findspark\n",
    "findspark.init()"
   ]
  },
  {
   "cell_type": "code",
   "execution_count": 2,
   "metadata": {},
   "outputs": [],
   "source": [
    "import pyspark\n",
    "from pyspark.sql import SQLContext\n",
    "from pyspark.sql import Row\n",
    "from pyspark.sql import SparkSession\n",
    "\n",
    "spark = SparkSession \\\n",
    "    .builder \\\n",
    "    .appName(\"Python Spark SQL basic example\") \\\n",
    "    .config(\"spark.some.config.option\", \"some-value\") \\\n",
    "    .getOrCreate()"
   ]
  },
  {
   "cell_type": "markdown",
   "metadata": {},
   "source": [
    "\n",
    "wget.download(\"https://datasets.imdbws.com/name.basics.tsv.gz\")\n"
   ]
  },
  {
   "cell_type": "markdown",
   "metadata": {},
   "source": [
    "## title.principals"
   ]
  },
  {
   "cell_type": "markdown",
   "metadata": {},
   "source": [
    "#### title.principals.tsv.gz – Contains the principal cast/crew for titles\n",
    "- tconst (string) - alphanumeric unique identifier of the title\n",
    "- ordering (integer) – a number to uniquely identify rows for a given titleId\n",
    "- nconst (string) - alphanumeric unique identifier of the name/person\n",
    "- category (string) - the category of job that person was in\n",
    "- job (string) - the specific job title if applicable, else '\\N'\n",
    "- characters (string) - the name of the character played if applicable, else '\\N'"
   ]
  },
  {
   "cell_type": "code",
   "execution_count": null,
   "metadata": {},
   "outputs": [],
   "source": [
    "data_file = \"./title.principals.tsv.gz\"\n",
    "raw_data = sc.textFile(data_file) \n",
    "header = raw_data.first() #remove header\n",
    "raw_data = raw_data.filter(lambda x: header != x)"
   ]
  },
  {
   "cell_type": "code",
   "execution_count": 3,
   "metadata": {},
   "outputs": [],
   "source": [
    "# dataframe\n",
    "df_title_principal = spark.read.option(\"header\",\"true\").option(\"sep\",\"\\t\").option(\"inferSchema\",\"true\").csv(\"./title.principals.tsv.gz\")"
   ]
  },
  {
   "cell_type": "code",
   "execution_count": 4,
   "metadata": {},
   "outputs": [],
   "source": [
    "df_names = spark.read.option(\"header\",\"true\").option(\"sep\",\"\\t\").option(\"inferSchema\",\"true\").csv(\"./name.basics.tsv.gz\")"
   ]
  },
  {
   "cell_type": "code",
   "execution_count": 5,
   "metadata": {},
   "outputs": [],
   "source": [
    "df_title = spark.read.option(\"header\",\"true\").option(\"sep\",\"\\t\").option(\"inferSchema\",\"true\").csv(\"./title.basics.tsv.gz\")"
   ]
  },
  {
   "cell_type": "code",
   "execution_count": 31,
   "metadata": {},
   "outputs": [],
   "source": [
    "df_ratings = spark.read.option(\"header\",\"true\").option(\"sep\",\"\\t\").option(\"inferSchema\",\"true\").csv(\"./title.ratings.tsv.gz\")\n",
    "df_ratings.createOrReplaceTempView(\"rating\")"
   ]
  },
  {
   "cell_type": "code",
   "execution_count": 6,
   "metadata": {},
   "outputs": [],
   "source": [
    "df_title.createOrReplaceTempView(\"title\")"
   ]
  },
  {
   "cell_type": "code",
   "execution_count": 10,
   "metadata": {},
   "outputs": [],
   "source": [
    "df_names.createOrReplaceTempView(\"name\")"
   ]
  },
  {
   "cell_type": "code",
   "execution_count": 11,
   "metadata": {},
   "outputs": [],
   "source": [
    "df_title_principal.createOrReplaceTempView(\"title_principal\")"
   ]
  },
  {
   "cell_type": "code",
   "execution_count": 13,
   "metadata": {},
   "outputs": [
    {
     "data": {
      "text/plain": [
       "6782090"
      ]
     },
     "execution_count": 13,
     "metadata": {},
     "output_type": "execute_result"
    }
   ],
   "source": [
    "df_title.count()"
   ]
  },
  {
   "cell_type": "code",
   "execution_count": 14,
   "metadata": {},
   "outputs": [
    {
     "data": {
      "text/plain": [
       "10078193"
      ]
     },
     "execution_count": 14,
     "metadata": {},
     "output_type": "execute_result"
    }
   ],
   "source": [
    "df_names.count()"
   ]
  },
  {
   "cell_type": "code",
   "execution_count": 15,
   "metadata": {},
   "outputs": [
    {
     "data": {
      "text/plain": [
       "38928801"
      ]
     },
     "execution_count": 15,
     "metadata": {},
     "output_type": "execute_result"
    }
   ],
   "source": [
    "df.count()"
   ]
  },
  {
   "cell_type": "code",
   "execution_count": 8,
   "metadata": {},
   "outputs": [],
   "source": [
    "def execute_query(query, rows=20):\n",
    "    sqlDF = spark.sql(query)\n",
    "    sqlDF.show(rows)"
   ]
  },
  {
   "cell_type": "code",
   "execution_count": 12,
   "metadata": {},
   "outputs": [
    {
     "name": "stdout",
     "output_type": "stream",
     "text": [
      "+--------+----------------+-----------+\n",
      "|database|       tableName|isTemporary|\n",
      "+--------+----------------+-----------+\n",
      "| default|covid19_bucketed|      false|\n",
      "|        |            name|       true|\n",
      "|        |           title|       true|\n",
      "|        | title_principal|       true|\n",
      "+--------+----------------+-----------+\n",
      "\n"
     ]
    }
   ],
   "source": [
    "execute_query(\"show tables\")"
   ]
  },
  {
   "cell_type": "code",
   "execution_count": 13,
   "metadata": {},
   "outputs": [
    {
     "name": "stdout",
     "output_type": "stream",
     "text": [
      "+--------------+---------+-------+\n",
      "|      col_name|data_type|comment|\n",
      "+--------------+---------+-------+\n",
      "|        tconst|   string|   null|\n",
      "|     titleType|   string|   null|\n",
      "|  primaryTitle|   string|   null|\n",
      "| originalTitle|   string|   null|\n",
      "|       isAdult|      int|   null|\n",
      "|     startYear|   string|   null|\n",
      "|       endYear|   string|   null|\n",
      "|runtimeMinutes|   string|   null|\n",
      "|        genres|   string|   null|\n",
      "+--------------+---------+-------+\n",
      "\n"
     ]
    }
   ],
   "source": [
    "execute_query(\"describe table title\")"
   ]
  },
  {
   "cell_type": "code",
   "execution_count": 26,
   "metadata": {},
   "outputs": [
    {
     "name": "stdout",
     "output_type": "stream",
     "text": [
      "+-----------------+---------+-------+\n",
      "|         col_name|data_type|comment|\n",
      "+-----------------+---------+-------+\n",
      "|           nconst|   string|   null|\n",
      "|      primaryName|   string|   null|\n",
      "|        birthYear|   string|   null|\n",
      "|        deathYear|   string|   null|\n",
      "|primaryProfession|   string|   null|\n",
      "|   knownForTitles|   string|   null|\n",
      "+-----------------+---------+-------+\n",
      "\n"
     ]
    }
   ],
   "source": [
    "execute_query(\"describe table name\")"
   ]
  },
  {
   "cell_type": "code",
   "execution_count": 32,
   "metadata": {},
   "outputs": [
    {
     "name": "stdout",
     "output_type": "stream",
     "text": [
      "+-------------+---------+-------+\n",
      "|     col_name|data_type|comment|\n",
      "+-------------+---------+-------+\n",
      "|       tconst|   string|   null|\n",
      "|averageRating|   double|   null|\n",
      "|     numVotes|      int|   null|\n",
      "+-------------+---------+-------+\n",
      "\n"
     ]
    }
   ],
   "source": [
    "execute_query(\"describe table rating\")"
   ]
  },
  {
   "cell_type": "code",
   "execution_count": 33,
   "metadata": {},
   "outputs": [
    {
     "name": "stdout",
     "output_type": "stream",
     "text": [
      "+---------+-------------+--------+\n",
      "|   tconst|averageRating|numVotes|\n",
      "+---------+-------------+--------+\n",
      "|tt0000001|          5.6|    1608|\n",
      "|tt0000002|          6.0|     197|\n",
      "|tt0000003|          6.5|    1286|\n",
      "|tt0000004|          6.1|     121|\n",
      "|tt0000005|          6.1|    2051|\n",
      "|tt0000006|          5.1|     111|\n",
      "|tt0000007|          5.4|     639|\n",
      "|tt0000008|          5.4|    1761|\n",
      "|tt0000009|          5.9|     145|\n",
      "|tt0000010|          6.9|    5786|\n",
      "|tt0000011|          5.2|     253|\n",
      "|tt0000012|          7.4|    9920|\n",
      "|tt0000013|          5.7|    1520|\n",
      "|tt0000014|          7.1|    4330|\n",
      "|tt0000015|          6.1|     784|\n",
      "|tt0000016|          5.9|    1150|\n",
      "|tt0000017|          4.6|     232|\n",
      "|tt0000018|          5.3|     469|\n",
      "|tt0000019|          5.5|      17|\n",
      "|tt0000020|          5.0|     260|\n",
      "+---------+-------------+--------+\n",
      "only showing top 20 rows\n",
      "\n"
     ]
    }
   ],
   "source": [
    "execute_query(\"select * from rating limit 30\")"
   ]
  },
  {
   "cell_type": "code",
   "execution_count": 18,
   "metadata": {},
   "outputs": [
    {
     "name": "stdout",
     "output_type": "stream",
     "text": [
      "+------+------+\n",
      "|tconst|nrorep|\n",
      "+------+------+\n",
      "+------+------+\n",
      "\n"
     ]
    }
   ],
   "source": [
    "execute_query(\"\"\"\n",
    "select tconst, \n",
    "    count(1) as nrorep \n",
    "from title a\n",
    "group by tconst\n",
    "having count(1)>1 \n",
    "limit 10\n",
    "\"\"\")"
   ]
  },
  {
   "cell_type": "code",
   "execution_count": 19,
   "metadata": {},
   "outputs": [
    {
     "name": "stdout",
     "output_type": "stream",
     "text": [
      "+------+------+\n",
      "|nconst|nrorep|\n",
      "+------+------+\n",
      "+------+------+\n",
      "\n"
     ]
    }
   ],
   "source": [
    "execute_query(\"\"\"\n",
    "select nconst, \n",
    "    count(1) as nrorep \n",
    "from name a\n",
    "group by nconst\n",
    "having count(1)>1 \n",
    "limit 10\n",
    "\"\"\")"
   ]
  },
  {
   "cell_type": "code",
   "execution_count": 34,
   "metadata": {},
   "outputs": [
    {
     "name": "stdout",
     "output_type": "stream",
     "text": [
      "+------+------+\n",
      "|tconst|nrorep|\n",
      "+------+------+\n",
      "+------+------+\n",
      "\n"
     ]
    }
   ],
   "source": [
    "execute_query(\"\"\"\n",
    "select tconst, \n",
    "    count(1) as nrorep \n",
    "from rating a\n",
    "group by tconst\n",
    "having count(1)>1 \n",
    "limit 10\n",
    "\"\"\")"
   ]
  },
  {
   "cell_type": "code",
   "execution_count": 24,
   "metadata": {},
   "outputs": [
    {
     "name": "stdout",
     "output_type": "stream",
     "text": [
      "+---------+--------+---------+---------------+--------------------+----------+\n",
      "|   tconst|ordering|   nconst|       category|                 job|characters|\n",
      "+---------+--------+---------+---------------+--------------------+----------+\n",
      "|tt0000001|       1|nm1588970|           self|                  \\N|  [\"Self\"]|\n",
      "|tt0000001|       2|nm0005690|       director|                  \\N|        \\N|\n",
      "|tt0000001|       3|nm0374658|cinematographer|director of photo...|        \\N|\n",
      "|tt0000002|       1|nm0721526|       director|                  \\N|        \\N|\n",
      "|tt0000002|       2|nm1335271|       composer|                  \\N|        \\N|\n",
      "|tt0000003|       1|nm0721526|       director|                  \\N|        \\N|\n",
      "|tt0000003|       2|nm5442194|       producer|            producer|        \\N|\n",
      "|tt0000003|       3|nm1335271|       composer|                  \\N|        \\N|\n",
      "|tt0000003|       4|nm5442200|         editor|                  \\N|        \\N|\n",
      "|tt0000004|       1|nm0721526|       director|                  \\N|        \\N|\n",
      "+---------+--------+---------+---------------+--------------------+----------+\n",
      "\n"
     ]
    }
   ],
   "source": [
    "execute_query(\"\"\"\n",
    "select * from title_principal \n",
    "limit 10\n",
    "\"\"\", 20)"
   ]
  },
  {
   "cell_type": "code",
   "execution_count": 36,
   "metadata": {},
   "outputs": [
    {
     "name": "stdout",
     "output_type": "stream",
     "text": [
      "+--------------------+------------------+\n",
      "|       originalTitle|            rating|\n",
      "+--------------------+------------------+\n",
      "|     The Truman Show| 7185890.699999999|\n",
      "|      Monsters, Inc.|         6249232.0|\n",
      "|        Intouchables|         6130565.5|\n",
      "|    The Big Lebowski|         5646834.0|\n",
      "|Le fabuleux desti...| 5642057.800000001|\n",
      "|        Finding Nemo|       5542830.675|\n",
      "|The Grand Budapes...| 5440316.399999999|\n",
      "|        The Hangover|         5358052.7|\n",
      "|Silver Linings Pl...| 4944462.600000001|\n",
      "|         Ratatouille|         4902784.0|\n",
      "|Guardians of the ...|        4835993.62|\n",
      "|               Shrek|         4606399.2|\n",
      "|Birdman or (The U...|         4263867.3|\n",
      "|Lock, Stock and T...|         4224681.0|\n",
      "|         Toy Story 2|         3991980.6|\n",
      "|Monty Python and ...|3962403.9999999995|\n",
      "|   Shaun of the Dead|         3903263.6|\n",
      "|            Kick-Ass|3896276.7999999993|\n",
      "|            Superbad|3827747.5999999996|\n",
      "|       Despicable Me|         3677412.0|\n",
      "+--------------------+------------------+\n",
      "\n"
     ]
    }
   ],
   "source": [
    "execute_query(\"\"\"\n",
    "select \n",
    "    b.originalTitle, \n",
    "    avg(d.averageRating*d.numVotes) rating\n",
    "from title_principal a\n",
    "inner join title b on a.tconst = b.tconst \n",
    "inner join name c on a.nconst = c.nconst\n",
    "inner join rating d on a.tconst = d.tconst\n",
    "where a.category = 'actor'\n",
    "and b.genres like '%Comedy%'\n",
    "group by b.originalTitle\n",
    "order by 2 desc\n",
    "limit 20\n",
    "\"\"\", 20)"
   ]
  }
 ],
 "metadata": {
  "kernelspec": {
   "display_name": "Python 3",
   "language": "python",
   "name": "python3"
  },
  "language_info": {
   "codemirror_mode": {
    "name": "ipython",
    "version": 3
   },
   "file_extension": ".py",
   "mimetype": "text/x-python",
   "name": "python",
   "nbconvert_exporter": "python",
   "pygments_lexer": "ipython3",
   "version": "3.7.3"
  }
 },
 "nbformat": 4,
 "nbformat_minor": 2
}

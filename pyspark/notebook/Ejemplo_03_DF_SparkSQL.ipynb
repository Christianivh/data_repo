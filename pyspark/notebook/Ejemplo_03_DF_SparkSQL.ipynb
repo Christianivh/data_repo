{
 "cells": [
  {
   "cell_type": "code",
   "execution_count": 1,
   "metadata": {},
   "outputs": [],
   "source": [
    "import findspark\n",
    "findspark.init()"
   ]
  },
  {
   "cell_type": "code",
   "execution_count": 2,
   "metadata": {},
   "outputs": [],
   "source": [
    "from pyspark.sql import SparkSession\n",
    "\n",
    "spark = SparkSession \\\n",
    "    .builder \\\n",
    "    .appName(\"Python Spark SQL basic example\") \\\n",
    "    .config(\"spark.some.config.option\", \"some-value\") \\\n",
    "    .getOrCreate()"
   ]
  },
  {
   "cell_type": "code",
   "execution_count": 3,
   "metadata": {},
   "outputs": [],
   "source": [
    "import datetime as dt\n",
    "import pandas as pd\n",
    "\n",
    "df_covid19 = pd.read_json('https://pomber.github.io/covid19/timeseries.json')\n",
    "df_covid19.head()\n",
    "countries= df_covid19.columns.to_list()\n",
    "\n",
    "def get_countries(countries):\n",
    "    df_world = pd.DataFrame({dt.datetime:None, int:None, int:None, object:None}, \n",
    "                            columns = ['date','confirmed','deaths','recovered', 'country'])\n",
    "\n",
    "    for country in countries:\n",
    "      df_country = pd.json_normalize(df_covid19[str(country)])\n",
    "      df_country['country'] = country\n",
    "      df_world = df_world.append(df_country, ignore_index = True)\n",
    "\n",
    "    df_world['date'] =  pd.to_datetime(df_world['date'] , infer_datetime_format=True)\n",
    "\n",
    "    return df_world\n",
    "\n",
    "df_world = get_countries(countries)\n",
    "df_world.to_csv(\"covid19_200508.csv\")"
   ]
  },
  {
   "cell_type": "code",
   "execution_count": 4,
   "metadata": {},
   "outputs": [],
   "source": [
    "df = spark.read.csv(\"covid19_200508.csv\")"
   ]
  },
  {
   "cell_type": "code",
   "execution_count": 5,
   "metadata": {},
   "outputs": [
    {
     "data": {
      "text/plain": [
       "65896"
      ]
     },
     "execution_count": 5,
     "metadata": {},
     "output_type": "execute_result"
    }
   ],
   "source": [
    "df.count()"
   ]
  },
  {
   "cell_type": "code",
   "execution_count": 6,
   "metadata": {},
   "outputs": [
    {
     "data": {
      "text/plain": [
       "DataFrame[summary: string, _c0: string, _c1: string, _c2: string, _c3: string, _c4: string, _c5: string]"
      ]
     },
     "execution_count": 6,
     "metadata": {},
     "output_type": "execute_result"
    }
   ],
   "source": [
    "df.describe()"
   ]
  },
  {
   "cell_type": "code",
   "execution_count": 7,
   "metadata": {},
   "outputs": [
    {
     "data": {
      "text/plain": [
       "DataFrame[summary: string, _c0: string, date: string, confirmed: string, deaths: string, recovered: string, country: string]"
      ]
     },
     "execution_count": 7,
     "metadata": {},
     "output_type": "execute_result"
    }
   ],
   "source": [
    "df = spark.read.format(\"csv\").option(\"header\", \"true\").load(\"covid19_200508.csv\")\n",
    "df.describe()"
   ]
  },
  {
   "cell_type": "code",
   "execution_count": 8,
   "metadata": {},
   "outputs": [],
   "source": [
    "df.createOrReplaceTempView(\"covid19\")"
   ]
  },
  {
   "cell_type": "code",
   "execution_count": 9,
   "metadata": {},
   "outputs": [],
   "source": [
    "def execute_query(query, rows=20):\n",
    "    sqlDF = spark.sql(query)\n",
    "    sqlDF.show(rows)"
   ]
  },
  {
   "cell_type": "code",
   "execution_count": 10,
   "metadata": {},
   "outputs": [
    {
     "name": "stdout",
     "output_type": "stream",
     "text": [
      "+-----+----------+---------+------+---------+-------+\n",
      "|  _c0|      date|confirmed|deaths|recovered|country|\n",
      "+-----+----------+---------+------+---------+-------+\n",
      "|39430|2020-05-01|    20739|  1972|    12377| Mexico|\n",
      "|39431|2020-05-02|    22088|  2061|    12377| Mexico|\n",
      "|39432|2020-05-03|    23471|  2154|    13447| Mexico|\n",
      "|39433|2020-05-04|    24905|  2271|    13447| Mexico|\n",
      "|39434|2020-05-05|    26025|  2507|    16810| Mexico|\n",
      "|39435|2020-05-06|    27634|  2704|    17781| Mexico|\n",
      "|39436|2020-05-07|    29616|  2961|    17781| Mexico|\n",
      "|39437|2020-05-08|    31522|  3160|    20314| Mexico|\n",
      "|39438|2020-05-09|    33460|  3353|    21824| Mexico|\n",
      "|39439|2020-05-10|    35022|  3465|    21824| Mexico|\n",
      "|39440|2020-05-11|    36327|  3573|    23100| Mexico|\n",
      "|39441|2020-05-12|    38324|  3926|    25935| Mexico|\n",
      "|39442|2020-05-13|    40186|  4220|    26990| Mexico|\n",
      "|39443|2020-05-14|    42595|  4477|    28475| Mexico|\n",
      "|39444|2020-05-15|    45032|  4767|    30451| Mexico|\n",
      "|39445|2020-05-16|    47144|  5045|    31848| Mexico|\n",
      "|39446|2020-05-17|    49219|  5177|    33329| Mexico|\n",
      "|39447|2020-05-18|    51633|  5332|    35388| Mexico|\n",
      "|39448|2020-05-19|    54346|  5666|    37325| Mexico|\n",
      "|39449|2020-05-20|    56594|  6090|    38419| Mexico|\n",
      "|39450|2020-05-21|    59567|  6510|    40152| Mexico|\n",
      "|39451|2020-05-22|    62527|  6989|    42191| Mexico|\n",
      "|39452|2020-05-23|    65856|  7179|    44424| Mexico|\n",
      "|39453|2020-05-24|    68620|  7394|    46979| Mexico|\n",
      "|39454|2020-05-25|    71105|  7633|    49452| Mexico|\n",
      "|39455|2020-05-26|    74560|  8134|    51708| Mexico|\n",
      "|39456|2020-05-27|    78023|  8597|    53834| Mexico|\n",
      "|39457|2020-05-28|    81400|  9044|    56041| Mexico|\n",
      "|39458|2020-05-29|    84627|  9415|    59003| Mexico|\n",
      "|39459|2020-05-30|    87512|  9779|    61247| Mexico|\n",
      "|39460|2020-05-31|    90664|  9930|    63772| Mexico|\n",
      "|39461|2020-06-01|    93435| 10167|    66965| Mexico|\n",
      "|39462|2020-06-02|    97326| 10637|    69749| Mexico|\n",
      "|39463|2020-06-03|   101238| 11729|    72680| Mexico|\n",
      "|39464|2020-06-04|   105680| 12545|    74758| Mexico|\n",
      "|39465|2020-06-05|   110026| 13170|    77841| Mexico|\n",
      "|39466|2020-06-06|   113619| 13511|    80830| Mexico|\n",
      "|39467|2020-06-07|   117103| 13699|    83775| Mexico|\n",
      "|39468|2020-06-08|   120102| 14053|    87633| Mexico|\n",
      "|39469|2020-06-09|   124301| 14649|    90748| Mexico|\n",
      "+-----+----------+---------+------+---------+-------+\n",
      "only showing top 40 rows\n",
      "\n"
     ]
    }
   ],
   "source": [
    "execute_query(\"SELECT * FROM covid19 where country= 'Mexico' and date >= '2020-05-01'\",40) "
   ]
  },
  {
   "cell_type": "code",
   "execution_count": 11,
   "metadata": {},
   "outputs": [
    {
     "name": "stdout",
     "output_type": "stream",
     "text": [
      "root\n",
      " |-- _c0: string (nullable = true)\n",
      " |-- date: string (nullable = true)\n",
      " |-- confirmed: string (nullable = true)\n",
      " |-- deaths: string (nullable = true)\n",
      " |-- recovered: string (nullable = true)\n",
      " |-- country: string (nullable = true)\n",
      "\n"
     ]
    }
   ],
   "source": [
    "df.printSchema()"
   ]
  },
  {
   "cell_type": "code",
   "execution_count": 15,
   "metadata": {},
   "outputs": [],
   "source": [
    "df = df.withColumnRenamed('_c0', 'item')"
   ]
  },
  {
   "cell_type": "code",
   "execution_count": 17,
   "metadata": {},
   "outputs": [
    {
     "name": "stdout",
     "output_type": "stream",
     "text": [
      "root\n",
      " |-- item: integer (nullable = true)\n",
      " |-- date: date (nullable = true)\n",
      " |-- confirmed: integer (nullable = true)\n",
      " |-- deaths: integer (nullable = true)\n",
      " |-- recovered: integer (nullable = true)\n",
      " |-- country: string (nullable = true)\n",
      "\n"
     ]
    }
   ],
   "source": [
    "from pyspark.sql import functions as F\n",
    "from pyspark.sql.types import *\n",
    "\n",
    "df = df.withColumn('item', F.col('item').cast(\"int\"))\n",
    "df = df.withColumn('date', F.col('date').cast(\"date\"))\n",
    "df = df.withColumn('confirmed', F.col('confirmed').cast(\"int\"))\n",
    "df = df.withColumn('deaths', F.col('deaths').cast(\"int\"))\n",
    "df = df.withColumn('recovered', F.col('recovered').cast(\"int\"))\n",
    "df = df.withColumn('country', F.col('country').cast(\"string\"))\n",
    "\n",
    "df.printSchema()"
   ]
  },
  {
   "cell_type": "code",
   "execution_count": 18,
   "metadata": {},
   "outputs": [],
   "source": [
    "df.schema[\"item\"].nullable = False"
   ]
  },
  {
   "cell_type": "code",
   "execution_count": 19,
   "metadata": {},
   "outputs": [],
   "source": [
    "df.createOrReplaceTempView(\"covid19\")"
   ]
  },
  {
   "cell_type": "code",
   "execution_count": 20,
   "metadata": {},
   "outputs": [
    {
     "name": "stdout",
     "output_type": "stream",
     "text": [
      "+-----+----------+---------+------+---------+-------+----------+----------+\n",
      "| item|      date|confirmed|deaths|recovered|country|    date_1|    date_1|\n",
      "+-----+----------+---------+------+---------+-------+----------+----------+\n",
      "|39430|2020-05-01|    20739|  1972|    12377| Mexico|2020-05-02|2020-04-30|\n",
      "|39431|2020-05-02|    22088|  2061|    12377| Mexico|2020-05-03|2020-05-01|\n",
      "|39432|2020-05-03|    23471|  2154|    13447| Mexico|2020-05-04|2020-05-02|\n",
      "|39433|2020-05-04|    24905|  2271|    13447| Mexico|2020-05-05|2020-05-03|\n",
      "|39434|2020-05-05|    26025|  2507|    16810| Mexico|2020-05-06|2020-05-04|\n",
      "|39435|2020-05-06|    27634|  2704|    17781| Mexico|2020-05-07|2020-05-05|\n",
      "|39436|2020-05-07|    29616|  2961|    17781| Mexico|2020-05-08|2020-05-06|\n",
      "|39437|2020-05-08|    31522|  3160|    20314| Mexico|2020-05-09|2020-05-07|\n",
      "|39438|2020-05-09|    33460|  3353|    21824| Mexico|2020-05-10|2020-05-08|\n",
      "|39439|2020-05-10|    35022|  3465|    21824| Mexico|2020-05-11|2020-05-09|\n",
      "|39440|2020-05-11|    36327|  3573|    23100| Mexico|2020-05-12|2020-05-10|\n",
      "|39441|2020-05-12|    38324|  3926|    25935| Mexico|2020-05-13|2020-05-11|\n",
      "|39442|2020-05-13|    40186|  4220|    26990| Mexico|2020-05-14|2020-05-12|\n",
      "|39443|2020-05-14|    42595|  4477|    28475| Mexico|2020-05-15|2020-05-13|\n",
      "|39444|2020-05-15|    45032|  4767|    30451| Mexico|2020-05-16|2020-05-14|\n",
      "|39445|2020-05-16|    47144|  5045|    31848| Mexico|2020-05-17|2020-05-15|\n",
      "|39446|2020-05-17|    49219|  5177|    33329| Mexico|2020-05-18|2020-05-16|\n",
      "|39447|2020-05-18|    51633|  5332|    35388| Mexico|2020-05-19|2020-05-17|\n",
      "|39448|2020-05-19|    54346|  5666|    37325| Mexico|2020-05-20|2020-05-18|\n",
      "|39449|2020-05-20|    56594|  6090|    38419| Mexico|2020-05-21|2020-05-19|\n",
      "|39450|2020-05-21|    59567|  6510|    40152| Mexico|2020-05-22|2020-05-20|\n",
      "|39451|2020-05-22|    62527|  6989|    42191| Mexico|2020-05-23|2020-05-21|\n",
      "|39452|2020-05-23|    65856|  7179|    44424| Mexico|2020-05-24|2020-05-22|\n",
      "|39453|2020-05-24|    68620|  7394|    46979| Mexico|2020-05-25|2020-05-23|\n",
      "|39454|2020-05-25|    71105|  7633|    49452| Mexico|2020-05-26|2020-05-24|\n",
      "|39455|2020-05-26|    74560|  8134|    51708| Mexico|2020-05-27|2020-05-25|\n",
      "|39456|2020-05-27|    78023|  8597|    53834| Mexico|2020-05-28|2020-05-26|\n",
      "|39457|2020-05-28|    81400|  9044|    56041| Mexico|2020-05-29|2020-05-27|\n",
      "|39458|2020-05-29|    84627|  9415|    59003| Mexico|2020-05-30|2020-05-28|\n",
      "|39459|2020-05-30|    87512|  9779|    61247| Mexico|2020-05-31|2020-05-29|\n",
      "|39460|2020-05-31|    90664|  9930|    63772| Mexico|2020-06-01|2020-05-30|\n",
      "|39461|2020-06-01|    93435| 10167|    66965| Mexico|2020-06-02|2020-05-31|\n",
      "|39462|2020-06-02|    97326| 10637|    69749| Mexico|2020-06-03|2020-06-01|\n",
      "|39463|2020-06-03|   101238| 11729|    72680| Mexico|2020-06-04|2020-06-02|\n",
      "|39464|2020-06-04|   105680| 12545|    74758| Mexico|2020-06-05|2020-06-03|\n",
      "|39465|2020-06-05|   110026| 13170|    77841| Mexico|2020-06-06|2020-06-04|\n",
      "|39466|2020-06-06|   113619| 13511|    80830| Mexico|2020-06-07|2020-06-05|\n",
      "|39467|2020-06-07|   117103| 13699|    83775| Mexico|2020-06-08|2020-06-06|\n",
      "|39468|2020-06-08|   120102| 14053|    87633| Mexico|2020-06-09|2020-06-07|\n",
      "|39469|2020-06-09|   124301| 14649|    90748| Mexico|2020-06-10|2020-06-08|\n",
      "+-----+----------+---------+------+---------+-------+----------+----------+\n",
      "only showing top 40 rows\n",
      "\n"
     ]
    }
   ],
   "source": [
    "execute_query(\"\"\"\n",
    "              SELECT a.*, \n",
    "                  date_add(date, 1) as date_1,\n",
    "                  date_sub(date, 1) as date_1\n",
    "              FROM covid19 a where a.country= 'Mexico' and date >= '2020-05-01'\n",
    "              \"\"\",40)"
   ]
  },
  {
   "cell_type": "code",
   "execution_count": 21,
   "metadata": {},
   "outputs": [
    {
     "name": "stdout",
     "output_type": "stream",
     "text": [
      "+------+------+-----------+--------+-----------+-----------+--------+-----------+----------+----------+\n",
      "|item_a|item_b|confirmed_a|deaths_a|recovered_a|confirmed_b|deaths_b|recovered_b|    date_a|    date_b|\n",
      "+------+------+-----------+--------+-----------+-----------+--------+-----------+----------+----------+\n",
      "| 39430| 39429|      20739|    1972|      12377|      19224|    1859|      11423|2020-05-01|2020-04-30|\n",
      "| 39431| 39430|      22088|    2061|      12377|      20739|    1972|      12377|2020-05-02|2020-05-01|\n",
      "| 39432| 39431|      23471|    2154|      13447|      22088|    2061|      12377|2020-05-03|2020-05-02|\n",
      "| 39433| 39432|      24905|    2271|      13447|      23471|    2154|      13447|2020-05-04|2020-05-03|\n",
      "| 39434| 39433|      26025|    2507|      16810|      24905|    2271|      13447|2020-05-05|2020-05-04|\n",
      "| 39435| 39434|      27634|    2704|      17781|      26025|    2507|      16810|2020-05-06|2020-05-05|\n",
      "| 39436| 39435|      29616|    2961|      17781|      27634|    2704|      17781|2020-05-07|2020-05-06|\n",
      "| 39437| 39436|      31522|    3160|      20314|      29616|    2961|      17781|2020-05-08|2020-05-07|\n",
      "| 39438| 39437|      33460|    3353|      21824|      31522|    3160|      20314|2020-05-09|2020-05-08|\n",
      "| 39439| 39438|      35022|    3465|      21824|      33460|    3353|      21824|2020-05-10|2020-05-09|\n",
      "| 39440| 39439|      36327|    3573|      23100|      35022|    3465|      21824|2020-05-11|2020-05-10|\n",
      "| 39441| 39440|      38324|    3926|      25935|      36327|    3573|      23100|2020-05-12|2020-05-11|\n",
      "| 39442| 39441|      40186|    4220|      26990|      38324|    3926|      25935|2020-05-13|2020-05-12|\n",
      "| 39443| 39442|      42595|    4477|      28475|      40186|    4220|      26990|2020-05-14|2020-05-13|\n",
      "| 39444| 39443|      45032|    4767|      30451|      42595|    4477|      28475|2020-05-15|2020-05-14|\n",
      "| 39445| 39444|      47144|    5045|      31848|      45032|    4767|      30451|2020-05-16|2020-05-15|\n",
      "| 39446| 39445|      49219|    5177|      33329|      47144|    5045|      31848|2020-05-17|2020-05-16|\n",
      "| 39447| 39446|      51633|    5332|      35388|      49219|    5177|      33329|2020-05-18|2020-05-17|\n",
      "| 39448| 39447|      54346|    5666|      37325|      51633|    5332|      35388|2020-05-19|2020-05-18|\n",
      "| 39449| 39448|      56594|    6090|      38419|      54346|    5666|      37325|2020-05-20|2020-05-19|\n",
      "| 39450| 39449|      59567|    6510|      40152|      56594|    6090|      38419|2020-05-21|2020-05-20|\n",
      "| 39451| 39450|      62527|    6989|      42191|      59567|    6510|      40152|2020-05-22|2020-05-21|\n",
      "| 39452| 39451|      65856|    7179|      44424|      62527|    6989|      42191|2020-05-23|2020-05-22|\n",
      "| 39453| 39452|      68620|    7394|      46979|      65856|    7179|      44424|2020-05-24|2020-05-23|\n",
      "| 39454| 39453|      71105|    7633|      49452|      68620|    7394|      46979|2020-05-25|2020-05-24|\n",
      "| 39455| 39454|      74560|    8134|      51708|      71105|    7633|      49452|2020-05-26|2020-05-25|\n",
      "| 39456| 39455|      78023|    8597|      53834|      74560|    8134|      51708|2020-05-27|2020-05-26|\n",
      "| 39457| 39456|      81400|    9044|      56041|      78023|    8597|      53834|2020-05-28|2020-05-27|\n",
      "| 39458| 39457|      84627|    9415|      59003|      81400|    9044|      56041|2020-05-29|2020-05-28|\n",
      "| 39459| 39458|      87512|    9779|      61247|      84627|    9415|      59003|2020-05-30|2020-05-29|\n",
      "| 39460| 39459|      90664|    9930|      63772|      87512|    9779|      61247|2020-05-31|2020-05-30|\n",
      "| 39461| 39460|      93435|   10167|      66965|      90664|    9930|      63772|2020-06-01|2020-05-31|\n",
      "| 39462| 39461|      97326|   10637|      69749|      93435|   10167|      66965|2020-06-02|2020-06-01|\n",
      "| 39463| 39462|     101238|   11729|      72680|      97326|   10637|      69749|2020-06-03|2020-06-02|\n",
      "| 39464| 39463|     105680|   12545|      74758|     101238|   11729|      72680|2020-06-04|2020-06-03|\n",
      "| 39465| 39464|     110026|   13170|      77841|     105680|   12545|      74758|2020-06-05|2020-06-04|\n",
      "| 39466| 39465|     113619|   13511|      80830|     110026|   13170|      77841|2020-06-06|2020-06-05|\n",
      "| 39467| 39466|     117103|   13699|      83775|     113619|   13511|      80830|2020-06-07|2020-06-06|\n",
      "| 39468| 39467|     120102|   14053|      87633|     117103|   13699|      83775|2020-06-08|2020-06-07|\n",
      "| 39469| 39468|     124301|   14649|      90748|     120102|   14053|      87633|2020-06-09|2020-06-08|\n",
      "+------+------+-----------+--------+-----------+-----------+--------+-----------+----------+----------+\n",
      "only showing top 40 rows\n",
      "\n"
     ]
    }
   ],
   "source": [
    "execute_query(\"\"\"\n",
    "              SELECT \n",
    "                  a.item as item_a,\n",
    "                  b.item as item_b,\n",
    "                  a.confirmed as confirmed_a, \n",
    "                  a.deaths as deaths_a, \n",
    "                  a.recovered as recovered_a,\n",
    "                  b.confirmed as confirmed_b, \n",
    "                  b.deaths as deaths_b, \n",
    "                  b.recovered as recovered_b,\n",
    "                  a.date as date_a,\n",
    "                  b.date as date_b\n",
    "              FROM covid19 a \n",
    "              inner join covid19 b on a.country = b.country and a.date = date_add(b.date, 1)\n",
    "              where a.country= 'Mexico' and a.date >= '2020-05-01'\n",
    "              \"\"\",40)"
   ]
  },
  {
   "cell_type": "code",
   "execution_count": 22,
   "metadata": {},
   "outputs": [
    {
     "name": "stdout",
     "output_type": "stream",
     "text": [
      "+---------+-------------+\n",
      "|  country|max_confirmed|\n",
      "+---------+-------------+\n",
      "|   Brazil|      7675973|\n",
      "| Colombia|      1642775|\n",
      "|Argentina|      1625514|\n",
      "|   Mexico|      1426094|\n",
      "|     Peru|      1015137|\n",
      "|    Chile|       608973|\n",
      "|  Ecuador|       212512|\n",
      "|  Bolivia|       160124|\n",
      "|Venezuela|       113558|\n",
      "| Paraguay|       107932|\n",
      "|  Uruguay|        19119|\n",
      "+---------+-------------+\n",
      "\n"
     ]
    }
   ],
   "source": [
    "execute_query(\"\"\"\n",
    "              SELECT country, max(confirmed) as max_confirmed\n",
    "              FROM covid19 a \n",
    "              where a.country in ('Mexico', 'Peru', 'Colombia', 'Chile', 'Ecuador', 'Bolivia', 'Venezuela', 'Argentina', 'Brazil', 'Uruguay', 'Paraguay')\n",
    "              group by country\n",
    "              order by 2 desc\n",
    "              \"\"\")"
   ]
  },
  {
   "cell_type": "code",
   "execution_count": 23,
   "metadata": {},
   "outputs": [
    {
     "name": "stdout",
     "output_type": "stream",
     "text": [
      "+-----------+---------+\n",
      "|    country|confirmed|\n",
      "+-----------+---------+\n",
      "|El Salvador|      695|\n",
      "+-----------+---------+\n",
      "\n"
     ]
    }
   ],
   "source": [
    "execute_query(\"\"\"\n",
    "              SELECT country, confirmed\n",
    "              FROM covid19 a\n",
    "              where date = '2020-05-07'\n",
    "              and country like '%Sal%'\n",
    "              order by 2 desc\n",
    "              \"\"\")"
   ]
  },
  {
   "cell_type": "code",
   "execution_count": 24,
   "metadata": {},
   "outputs": [],
   "source": [
    "def its_america(value):\n",
    "   if value in ['Peru', 'Colombia', 'Chile', 'Ecuador', 'Bolivia', 'Venezuela', 'Argentina', 'Brazil', 'Uruguay', 'Paraguay']:\n",
    "        return 'SurAmerica'\n",
    "   elif value in ['Guatemala','El Salvador','Panama', 'Costa Rica', 'Puerto Rico']: \n",
    "        return 'CentroAmerica'\n",
    "   elif value in ['Canada','US','Mexico']: \n",
    "        return 'NorteAmerica'\n",
    "   else: \n",
    "        return 'na'"
   ]
  },
  {
   "cell_type": "code",
   "execution_count": 25,
   "metadata": {},
   "outputs": [
    {
     "data": {
      "text/plain": [
       "'NorteAmerica'"
      ]
     },
     "execution_count": 25,
     "metadata": {},
     "output_type": "execute_result"
    }
   ],
   "source": [
    "its_america('Mexico')"
   ]
  },
  {
   "cell_type": "code",
   "execution_count": 26,
   "metadata": {},
   "outputs": [
    {
     "name": "stdout",
     "output_type": "stream",
     "text": [
      "+----+----------+---------+------+---------+-----------+-----------+\n",
      "|item|      date|confirmed|deaths|recovered|    country|its_america|\n",
      "+----+----------+---------+------+---------+-----------+-----------+\n",
      "|   0|2020-01-22|        0|     0|        0|Afghanistan|         na|\n",
      "|   1|2020-01-23|        0|     0|        0|Afghanistan|         na|\n",
      "|   2|2020-01-24|        0|     0|        0|Afghanistan|         na|\n",
      "|   3|2020-01-25|        0|     0|        0|Afghanistan|         na|\n",
      "|   4|2020-01-26|        0|     0|        0|Afghanistan|         na|\n",
      "|   5|2020-01-27|        0|     0|        0|Afghanistan|         na|\n",
      "|   6|2020-01-28|        0|     0|        0|Afghanistan|         na|\n",
      "|   7|2020-01-29|        0|     0|        0|Afghanistan|         na|\n",
      "|   8|2020-01-30|        0|     0|        0|Afghanistan|         na|\n",
      "|   9|2020-01-31|        0|     0|        0|Afghanistan|         na|\n",
      "|  10|2020-02-01|        0|     0|        0|Afghanistan|         na|\n",
      "|  11|2020-02-02|        0|     0|        0|Afghanistan|         na|\n",
      "|  12|2020-02-03|        0|     0|        0|Afghanistan|         na|\n",
      "|  13|2020-02-04|        0|     0|        0|Afghanistan|         na|\n",
      "|  14|2020-02-05|        0|     0|        0|Afghanistan|         na|\n",
      "|  15|2020-02-06|        0|     0|        0|Afghanistan|         na|\n",
      "|  16|2020-02-07|        0|     0|        0|Afghanistan|         na|\n",
      "|  17|2020-02-08|        0|     0|        0|Afghanistan|         na|\n",
      "|  18|2020-02-09|        0|     0|        0|Afghanistan|         na|\n",
      "|  19|2020-02-10|        0|     0|        0|Afghanistan|         na|\n",
      "+----+----------+---------+------+---------+-----------+-----------+\n",
      "only showing top 20 rows\n",
      "\n"
     ]
    }
   ],
   "source": [
    "from pyspark.sql.functions import udf\n",
    "\n",
    "udf_its_america = udf(its_america, StringType())\n",
    "df_with_america = df.withColumn(\"its_america\", udf_its_america(F.col('country')))\n",
    "df_with_america.show()"
   ]
  },
  {
   "cell_type": "code",
   "execution_count": 27,
   "metadata": {},
   "outputs": [],
   "source": [
    "df_with_america.createOrReplaceTempView(\"covid19\")"
   ]
  },
  {
   "cell_type": "code",
   "execution_count": 28,
   "metadata": {},
   "outputs": [
    {
     "name": "stdout",
     "output_type": "stream",
     "text": [
      "+--------+---------+-----------+\n",
      "|database|tableName|isTemporary|\n",
      "+--------+---------+-----------+\n",
      "|        |  covid19|       true|\n",
      "+--------+---------+-----------+\n",
      "\n"
     ]
    }
   ],
   "source": [
    "execute_query(\"show tables\")"
   ]
  },
  {
   "cell_type": "code",
   "execution_count": 29,
   "metadata": {},
   "outputs": [
    {
     "name": "stdout",
     "output_type": "stream",
     "text": [
      "+---------+\n",
      "|namespace|\n",
      "+---------+\n",
      "|  default|\n",
      "+---------+\n",
      "\n"
     ]
    }
   ],
   "source": [
    "execute_query(\"show databases\")"
   ]
  },
  {
   "cell_type": "code",
   "execution_count": 30,
   "metadata": {},
   "outputs": [
    {
     "name": "stdout",
     "output_type": "stream",
     "text": [
      "+-----------+---------+-------+\n",
      "|   col_name|data_type|comment|\n",
      "+-----------+---------+-------+\n",
      "|       item|      int|   null|\n",
      "|       date|     date|   null|\n",
      "|  confirmed|      int|   null|\n",
      "|     deaths|      int|   null|\n",
      "|  recovered|      int|   null|\n",
      "|    country|   string|   null|\n",
      "|its_america|   string|   null|\n",
      "+-----------+---------+-------+\n",
      "\n"
     ]
    }
   ],
   "source": [
    "execute_query(\"describe covid19\")"
   ]
  },
  {
   "cell_type": "code",
   "execution_count": 31,
   "metadata": {},
   "outputs": [
    {
     "name": "stdout",
     "output_type": "stream",
     "text": [
      "+--------------+---------+------------+\n",
      "|       country|confirmed| its_america|\n",
      "+--------------+---------+------------+\n",
      "|            US|  1267201|NorteAmerica|\n",
      "|         Spain|   221447|          na|\n",
      "|         Italy|   215858|          na|\n",
      "|United Kingdom|   204387|          na|\n",
      "|        Russia|   177160|          na|\n",
      "|        France|   177096|          na|\n",
      "|       Germany|   169430|          na|\n",
      "|        Brazil|   135773|  SurAmerica|\n",
      "|        Turkey|   133721|          na|\n",
      "|          Iran|   103135|          na|\n",
      "|         China|    83975|          na|\n",
      "|        Canada|    66201|NorteAmerica|\n",
      "|          Peru|    58526|  SurAmerica|\n",
      "|         India|    56351|          na|\n",
      "|       Belgium|    51420|          na|\n",
      "|   Netherlands|    41973|          na|\n",
      "|  Saudi Arabia|    33731|          na|\n",
      "|       Ecuador|    30298|  SurAmerica|\n",
      "|   Switzerland|    30126|          na|\n",
      "|        Mexico|    29616|NorteAmerica|\n",
      "+--------------+---------+------------+\n",
      "only showing top 20 rows\n",
      "\n"
     ]
    }
   ],
   "source": [
    "execute_query(\"\"\"\n",
    "              SELECT country, confirmed, its_america\n",
    "              FROM covid19 a\n",
    "              where date = '2020-05-07'\n",
    "              and its_america != 'n/a'\n",
    "              order by 2 desc\n",
    "              \"\"\")"
   ]
  },
  {
   "cell_type": "markdown",
   "metadata": {},
   "source": [
    "## Bucketing, Sorting and Partitioning"
   ]
  },
  {
   "cell_type": "markdown",
   "metadata": {},
   "source": [
    "Para la fuente de datos basada en archivos, también es posible agrupar y ordenar o particionar la salida. El agrupamiento y la clasificación solo se aplican a las tablas persistentes:"
   ]
  },
  {
   "cell_type": "code",
   "execution_count": 164,
   "metadata": {},
   "outputs": [
    {
     "data": {
      "text/plain": [
       "DataFrame[]"
      ]
     },
     "execution_count": 164,
     "metadata": {},
     "output_type": "execute_result"
    }
   ],
   "source": [
    "# spark.sql(\"drop table covid19_bucketed\")"
   ]
  },
  {
   "cell_type": "code",
   "execution_count": 32,
   "metadata": {},
   "outputs": [],
   "source": [
    "df_with_america.write.bucketBy(10, \"country\").sortBy(\"confirmed\").saveAsTable(\"covid19_bucketed\")"
   ]
  },
  {
   "cell_type": "code",
   "execution_count": 33,
   "metadata": {},
   "outputs": [
    {
     "name": "stdout",
     "output_type": "stream",
     "text": [
      "+--------------+---------+\n",
      "|       country|confirmed|\n",
      "+--------------+---------+\n",
      "|            US|  1267201|\n",
      "|         Spain|   221447|\n",
      "|         Italy|   215858|\n",
      "|United Kingdom|   204387|\n",
      "|        Russia|   177160|\n",
      "|        France|   177096|\n",
      "|       Germany|   169430|\n",
      "|        Brazil|   135773|\n",
      "|        Turkey|   133721|\n",
      "|          Iran|   103135|\n",
      "|         China|    83975|\n",
      "|        Canada|    66201|\n",
      "|          Peru|    58526|\n",
      "|         India|    56351|\n",
      "|       Belgium|    51420|\n",
      "|   Netherlands|    41973|\n",
      "|  Saudi Arabia|    33731|\n",
      "|       Ecuador|    30298|\n",
      "|   Switzerland|    30126|\n",
      "|        Mexico|    29616|\n",
      "+--------------+---------+\n",
      "only showing top 20 rows\n",
      "\n"
     ]
    }
   ],
   "source": [
    "execute_query(\"\"\"\n",
    "              SELECT country, confirmed\n",
    "              FROM covid19_bucketed a\n",
    "              where date = '2020-05-07'\n",
    "              order by 2 desc\n",
    "              \"\"\")"
   ]
  },
  {
   "cell_type": "markdown",
   "metadata": {},
   "source": [
    "Mientras que la partición se puede usar con save y saveAsTable cuando se usan las API de conjunto de datos."
   ]
  },
  {
   "cell_type": "code",
   "execution_count": 34,
   "metadata": {},
   "outputs": [],
   "source": [
    "df_with_america.write.partitionBy(\"its_america\").format(\"parquet\").save(\"covid19\")"
   ]
  },
  {
   "cell_type": "code",
   "execution_count": 35,
   "metadata": {},
   "outputs": [],
   "source": [
    "df_parquet = spark.read.parquet(\"./covid19\")"
   ]
  },
  {
   "cell_type": "code",
   "execution_count": 36,
   "metadata": {},
   "outputs": [
    {
     "data": {
      "text/plain": [
       "DataFrame[summary: string, item: string, confirmed: string, deaths: string, recovered: string, country: string, its_america: string]"
      ]
     },
     "execution_count": 36,
     "metadata": {},
     "output_type": "execute_result"
    }
   ],
   "source": [
    "df_parquet.describe()"
   ]
  },
  {
   "cell_type": "markdown",
   "metadata": {},
   "source": [
    "## reference\n",
    "\n",
    "- Python:  https://github.com/jakevdp/PythonDataScienceHandbook\n",
    "- Hive: https://github.com/vavasquezhe/apache-hive-course\n",
    "- SparkSQL: https://spark.apache.org/docs/2.4.0/sql-getting-started.html\n",
    "- Databricks: https://docs.databricks.com/spark/latest/spark-sql/index.html"
   ]
  },
  {
   "cell_type": "code",
   "execution_count": null,
   "metadata": {},
   "outputs": [],
   "source": []
  }
 ],
 "metadata": {
  "kernelspec": {
   "display_name": "Python 3",
   "language": "python",
   "name": "python3"
  },
  "language_info": {
   "codemirror_mode": {
    "name": "ipython",
    "version": 3
   },
   "file_extension": ".py",
   "mimetype": "text/x-python",
   "name": "python",
   "nbconvert_exporter": "python",
   "pygments_lexer": "ipython3",
   "version": "3.8.5"
  }
 },
 "nbformat": 4,
 "nbformat_minor": 2
}
